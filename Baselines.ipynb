{
 "cells": [
  {
   "cell_type": "code",
   "execution_count": 20,
   "metadata": {},
   "outputs": [
    {
     "name": "stdout",
     "output_type": "stream",
     "text": [
      "Done.\n"
     ]
    }
   ],
   "source": [
    "# Treino do modelo com hiperparâmetros selecionados\n",
    "import torch\n",
    "import gymnasium\n",
    "from gymnasium.wrappers.record_video import RecordVideo\n",
    "from stable_baselines3 import PPO\n",
    "from stable_baselines3.common.monitor import Monitor\n",
    "from stable_baselines3.common.env_util import make_vec_env\n",
    "from pushbullet import Pushbullet\n",
    "\n",
    "pb = Pushbullet(\"o.8HIa4sqhWdBgCcIm9E5TQ34Y07EEcFHN\")\n",
    "torch.manual_seed(1)\n",
    "\n",
    "ENV_ID = 'BipedalWalker-v3'\n",
    "N_ENVS = 1\n",
    "HM = False\n",
    "SIZE = [128,256]\n",
    "TIMESTEPS = int(2e6)\n",
    "\n",
    "train_env = make_vec_env(ENV_ID, n_envs= N_ENVS, seed=0, wrapper_class=Monitor, env_kwargs= dict(hardcore = HM))\n",
    "best_model = PPO('MlpPolicy', train_env,  policy_kwargs= dict(net_arch = dict(pi=SIZE, vf=SIZE)) )\n",
    "\n",
    "seeds = [1, 2, 3, 5, 8]\n",
    "for seed in seeds:\n",
    "    best_model.set_random_seed(seed)\n",
    "    best_model.learn(total_timesteps=TIMESTEPS)\n",
    "\n",
    "env = gymnasium.make(ENV_ID, render_mode = 'rgb_array', hardcore = HM)\n",
    "env = RecordVideo(env, video_folder= ENV_ID, name_prefix= str(HM) + str(N_ENVS) + str(SIZE) + str(TIMESTEPS), episode_trigger= lambda x: True, disable_logger = True)\n",
    "obs = env.reset()[0]\n",
    "best_model.set_random_seed(144)\n",
    "done = False\n",
    "while not done:\n",
    "    action, _ = best_model.predict(obs, deterministic=True)\n",
    "    obs, reward, terminated, truncated, info = env.step(action)\n",
    "    done = terminated or truncated\n",
    "env.close()\n",
    "\n",
    "pb.push_note(\"Fim da execução!\", \"Seu código no computador do laboratório terminou de rodar.\")\n",
    "print('Done.')"
   ]
  },
  {
   "cell_type": "code",
   "execution_count": 11,
   "metadata": {},
   "outputs": [],
   "source": [
    "# Visualização\n",
    "import gymnasium\n",
    "from stable_baselines3.ppo import PPO\n",
    "from gymnasium.wrappers.record_episode_statistics import RecordEpisodeStatistics\n",
    "from gymnasium.wrappers.record_video import RecordVideo\n",
    "import keyboard\n",
    "\n",
    "def verificar(best_model: PPO):\n",
    "    env = gymnasium.make(ENV_ID, render_mode = 'rgb_array', hardcore = HM)\n",
    "    obs = env.reset()[0]\n",
    "    i = 0\n",
    "    seeds = [13, 21, 34, 55, 89]\n",
    "    while i < 5:\n",
    "        best_model.set_random_seed(seeds[i])\n",
    "        action, _ = best_model.predict(obs, deterministic=True)\n",
    "        obs, reward, terminated, truncated, info = env.step(action)\n",
    "        if terminated or truncated:\n",
    "            obs, info = env.reset()\n",
    "            i = i + 1\n",
    "        if keyboard.is_pressed('esc'):\n",
    "            break\n",
    "    env.close()\n",
    "    \n",
    "verificar(best_model)"
   ]
  }
 ],
 "metadata": {
  "kernelspec": {
   "display_name": "Dissertacao",
   "language": "python",
   "name": "python3"
  },
  "language_info": {
   "codemirror_mode": {
    "name": "ipython",
    "version": 3
   },
   "file_extension": ".py",
   "mimetype": "text/x-python",
   "name": "python",
   "nbconvert_exporter": "python",
   "pygments_lexer": "ipython3",
   "version": "3.10.13"
  }
 },
 "nbformat": 4,
 "nbformat_minor": 2
}
