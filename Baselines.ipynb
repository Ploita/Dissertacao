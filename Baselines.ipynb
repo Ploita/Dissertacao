{
 "cells": [
  {
   "cell_type": "code",
   "execution_count": 26,
   "metadata": {},
   "outputs": [],
   "source": [
    "# Treino do modelo com hiperparâmetros selecionados\n",
    "import torch\n",
    "import gymnasium\n",
    "from stable_baselines3 import PPO\n",
    "from stable_baselines3.common.monitor import Monitor\n",
    "from stable_baselines3.common.evaluation import evaluate_policy\n",
    "\n",
    "ENV_ID = 'BipedalWalker-v3'\n",
    "torch.manual_seed(1)\n",
    "\n",
    "train_env = Monitor(gymnasium.make(ENV_ID, hardcore = True) )\n",
    "\n",
    "best_model = PPO('MlpPolicy', train_env, policy_kwargs= dict(net_arch = dict(pi=[64, 128], vf=[64, 128])))\n",
    "\n",
    "seeds = [1, 2, 3, 5, 8] #, 13, 21, 34, 55, 89]\n",
    "for seed in seeds:\n",
    "    best_model.set_random_seed(seed)\n",
    "    best_model.learn(total_timesteps=int(2e5))\n",
    "\n",
    "eval_env = Monitor(gymnasium.make(ENV_ID))\n",
    "_, _ = evaluate_policy(best_model, eval_env, n_eval_episodes=int(1e3), return_episode_rewards = False)"
   ]
  },
  {
   "cell_type": "code",
   "execution_count": 25,
   "metadata": {},
   "outputs": [],
   "source": [
    "# Visualização\n",
    "import gymnasium\n",
    "from stable_baselines3.ppo import PPO\n",
    "\n",
    "def teste(best_model: PPO):\n",
    "    env = gymnasium.make(ENV_ID, hardcore = True, render_mode = 'human')\n",
    "    obs = env.reset()[0]\n",
    "    i = 0\n",
    "    seeds = [1, 2, 3, 5, 8]\n",
    "    while i < 5:\n",
    "        best_model.set_random_seed(seeds[i])\n",
    "        action, _ = best_model.predict(obs, deterministic=True)\n",
    "        obs, reward, terminated, truncated, info = env.step(action)\n",
    "        if terminated or truncated:\n",
    "            obs, info = env.reset()\n",
    "            i = i + 1\n",
    "    env.close()\n",
    "\n",
    "teste(best_model)"
   ]
  },
  {
   "cell_type": "code",
   "execution_count": 14,
   "metadata": {},
   "outputs": [],
   "source": [
    "best_model.save(ENV_ID)"
   ]
  },
  {
   "cell_type": "code",
   "execution_count": 8,
   "metadata": {},
   "outputs": [
    {
     "data": {
      "image/png": "[encoded data removed]",
      "text/plain": [
       "<Figure size 1200x500 with 2 Axes>"
      ]
     },
     "metadata": {},
     "output_type": "display_data"
    }
   ],
   "source": [
    "# Resultado do treino e validação\n",
    "import matplotlib.pyplot as plt\n",
    "import numpy as np\n",
    "\n",
    "train_rewards = np.array(train_env.get_episode_rewards())\n",
    "eval_rewards = np.array(eval_env.get_episode_rewards())\n",
    "\n",
    "figs, axs = plt.subplots(1,2, figsize=(12, 5))\n",
    "axs[0].plot(train_rewards)\n",
    "axs[0].set_ylim(0, 550)\n",
    "axs[0].set_title('Treino')\n",
    "\n",
    "axs[1].plot(eval_rewards)\n",
    "axs[1].set_ylim(0, 550)\n",
    "axs[1].set_title('Validação')\n",
    "\n",
    "plt.show()"
   ]
  }
 ],
 "metadata": {
  "kernelspec": {
   "display_name": "Dissertacao",
   "language": "python",
   "name": "python3"
  },
  "language_info": {
   "codemirror_mode": {
    "name": "ipython",
    "version": 3
   },
   "file_extension": ".py",
   "mimetype": "text/x-python",
   "name": "python",
   "nbconvert_exporter": "python",
   "pygments_lexer": "ipython3",
   "version": "3.10.13"
  }
 },
 "nbformat": 4,
 "nbformat_minor": 2
}
