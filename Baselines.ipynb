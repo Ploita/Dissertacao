{
 "cells": [
  {
   "cell_type": "code",
   "execution_count": 13,
   "metadata": {},
   "outputs": [],
   "source": [
    "import gymnasium\n",
    "from stable_baselines3.a2c import A2C\n",
    "\n",
    "def teste(best_model: A2C):\n",
    "    env = gymnasium.make('CartPole-v1', render_mode = 'human')\n",
    "    obs = env.reset()[0]\n",
    "    i = 0\n",
    "    seeds = [1, 2, 3, 5, 8]\n",
    "    while i < 5:\n",
    "        best_model.set_random_seed(seeds[i])\n",
    "        action, _ = best_model.predict(obs, deterministic=True)\n",
    "        obs, reward, terminated, truncated, info = env.step(action)\n",
    "        if terminated or truncated:\n",
    "            obs, info = env.reset()\n",
    "            i = i + 1\n",
    "    env.close()"
   ]
  },
  {
   "cell_type": "code",
   "execution_count": 14,
   "metadata": {},
   "outputs": [],
   "source": [
    "import optuna\n",
    "from typing import Union, Dict, Any\n",
    "\n",
    "def sample_a2c_params(trial: Union[optuna.Trial, optuna.trial.FrozenTrial]) -> Dict[str, Any]:\n",
    "    \"\"\"\n",
    "    Sampler for DQN hyperparams.\n",
    "\n",
    "    :param trial:\n",
    "    :return:\n",
    "    \"\"\"\n",
    "    \n",
    "    learning_rate = trial.suggest_float(\"learning_rate\", 1e-5, 1, log=True)\n",
    "    n_steps = trial.suggest_categorical(\"n_steps\", [16, 32, 64, 128, 256, 512, 1024])\n",
    "    gamma = trial.suggest_categorical(\"gamma\", [0.9, 0.95, 0.98, 0.99, 0.995, 0.999, 0.9999])\n",
    "    gae_lambda = trial.suggest_categorical(\"gae_lambda\", [0.9, 0.95, 0.98, 0.99, 0.995, 0.999, 0.9999])\n",
    "    ent_coef = trial.suggest_float(\"ent_coef\", 0, 0.1)\n",
    "    vf_coef = trial.suggest_float(\"vf_coef\", 0, 0.1)\n",
    "    max_grad_norm = trial.suggest_float(\"max_grad_norm\", 0.1, 10.0)\n",
    "    rms_prop_eps = trial.suggest_float(\"rms_prop_eps\", 1e-5, 1e-2, log=True)\n",
    "    use_rms_prop = trial.suggest_categorical(\"use_rms_prop\", [True, False])\n",
    "     \n",
    "    hyperparams = {\n",
    "        \"learning_rate\": learning_rate,\n",
    "        \"n_steps\": n_steps,\n",
    "        \"gamma\": gamma,\n",
    "        \"gae_lambda\": gae_lambda,\n",
    "        \"ent_coef\": ent_coef,\n",
    "        \"vf_coef\": vf_coef,\n",
    "        \"max_grad_norm\": max_grad_norm,\n",
    "        \"rms_prop_eps\": rms_prop_eps,\n",
    "        \"use_rms_prop\": use_rms_prop\n",
    "    }\n",
    "\n",
    "    return hyperparams"
   ]
  },
  {
   "cell_type": "code",
   "execution_count": 15,
   "metadata": {},
   "outputs": [],
   "source": [
    "from stable_baselines3.common.callbacks import EvalCallback\n",
    "import gymnasium\n",
    "\n",
    "class TrialEvalCallback(EvalCallback):\n",
    "    \"\"\"Callback used for evaluating and reporting a trial.\"\"\"\n",
    "\n",
    "    def __init__(\n",
    "        self,\n",
    "        eval_env: gymnasium.Env,\n",
    "        trial: optuna.Trial,\n",
    "        n_eval_episodes: int = 5,\n",
    "        eval_freq: int = 10000,\n",
    "        deterministic: bool = True,\n",
    "        verbose: int = 0,\n",
    "    ):\n",
    "        super().__init__(\n",
    "            eval_env=eval_env,\n",
    "            n_eval_episodes=n_eval_episodes,\n",
    "            eval_freq=eval_freq,\n",
    "            deterministic=deterministic,\n",
    "            verbose=verbose,\n",
    "        )\n",
    "        self.trial = trial\n",
    "        self.eval_idx = 0\n",
    "        self.is_pruned = False\n",
    "\n",
    "    def _on_step(self) -> bool:\n",
    "        if self.eval_freq > 0 and self.n_calls % self.eval_freq == 0:\n",
    "            super()._on_step()\n",
    "            self.eval_idx += 1\n",
    "            self.trial.report(self.last_mean_reward, self.eval_idx)\n",
    "            # Prune trial if need.\n",
    "            if self.trial.should_prune():\n",
    "                self.is_pruned = True\n",
    "                return False\n",
    "        return True"
   ]
  },
  {
   "cell_type": "code",
   "execution_count": 16,
   "metadata": {},
   "outputs": [],
   "source": [
    "import torch\n",
    "from stable_baselines3 import A2C\n",
    "from stable_baselines3.common.monitor import Monitor\n",
    "from stable_baselines3.common.evaluation import evaluate_policy\n",
    "\n",
    "ENV_ID = \"CartPole-v1\"\n",
    "DEFAULT_HYPERPARAMS = {\n",
    "    \"policy\": \"MlpPolicy\",\n",
    "    \"env\": ENV_ID,\n",
    "}\n",
    "N_EVAL_EPISODES = int(1e3)\n",
    "EVAL_FREQ = int(1e2)\n",
    "N_TIMESTEPS = int(1e3)\n",
    "\n",
    "def objective(trial: optuna.Trial) -> float:\n",
    "    # Sample hyperparameters.\n",
    "    kwargs = sample_a2c_params(trial)\n",
    "    # Create the RL model.\n",
    "    torch.manual_seed(1)\n",
    "    model = A2C(policy='MlpPolicy', env=ENV_ID, **kwargs)\n",
    "    model.set_random_seed(1)\n",
    "    # Create env used for evaluation.\n",
    "    train_env = Monitor(gymnasium.make(ENV_ID))\n",
    "    # Create the callback that will periodically evaluate and report the performance.\n",
    "    eval_callback = TrialEvalCallback(\n",
    "        train_env, trial, n_eval_episodes=N_EVAL_EPISODES, eval_freq=EVAL_FREQ, deterministic=True\n",
    "    )\n",
    "\n",
    "    nan_encountered = False\n",
    "    try:\n",
    "        model.learn(N_TIMESTEPS, callback=eval_callback)\n",
    "    except AssertionError as e:\n",
    "        # Sometimes, random hyperparams can generate NaN.\n",
    "        print(e)\n",
    "        nan_encountered = True\n",
    "    finally:\n",
    "        # Free memory.\n",
    "        model.env.close()\n",
    "        train_env.close()\n",
    "\n",
    "    # Tell the optimizer that the trial failed.\n",
    "    if nan_encountered:\n",
    "        return float(\"nan\")\n",
    "\n",
    "    if eval_callback.is_pruned:\n",
    "        raise optuna.exceptions.TrialPruned()\n",
    "\n",
    "    eval_env = Monitor(gymnasium.make(ENV_ID))\n",
    "    mean, _ = evaluate_policy(model, eval_env, n_eval_episodes= int(1e2), return_episode_rewards= False)\n",
    "    return mean "
   ]
  },
  {
   "cell_type": "code",
   "execution_count": 17,
   "metadata": {},
   "outputs": [],
   "source": [
    "class CheckHyperparamMeanRewardThreshold:\n",
    "    def __init__(self, reward_threshold: float):\n",
    "        self.reward_threshold = reward_threshold\n",
    "\n",
    "    def __call__(self, study: optuna.study.Study, trial: optuna.trial.FrozenTrial) -> None:\n",
    "        if trial.value is not None and trial.value >= self.reward_threshold:\n",
    "            print((f'Stopping hyperparameter search because trial.value ({trial.value}) '\n",
    "                   f'hit threshold ({self.reward_threshold})'))\n",
    "            study.stop()"
   ]
  },
  {
   "cell_type": "code",
   "execution_count": 19,
   "metadata": {},
   "outputs": [
    {
     "data": {
      "application/vnd.jupyter.widget-view+json": {
       "model_id": "fbb62f085b13400fb1b0de19471fd36c",
       "version_major": 2,
       "version_minor": 0
      },
      "text/plain": [
       "  0%|          | 0/1000 [00:00<?, ?it/s]"
      ]
     },
     "metadata": {},
     "output_type": "display_data"
    },
    {
     "name": "stdout",
     "output_type": "stream",
     "text": [
      "Stopping hyperparameter search because trial.value (500.0) hit threshold (500.0)\n"
     ]
    }
   ],
   "source": [
    "import torch\n",
    "from optuna.samplers import TPESampler\n",
    "from optuna.pruners import MedianPruner\n",
    "\n",
    "N_STARTUP_TRIALS = int(1e1)\n",
    "N_EVALUATIONS = int(3e1)\n",
    "N_TRIALS = int(1e3)\n",
    "\n",
    "optuna.logging.set_verbosity(optuna.logging.ERROR)\n",
    "torch.set_num_threads(1)\n",
    "\n",
    "sampler = TPESampler(n_startup_trials=N_STARTUP_TRIALS, seed= 1)\n",
    "# Do not prune before 1/3 of the max budget is used.\n",
    "pruner = MedianPruner(n_startup_trials=N_STARTUP_TRIALS, n_warmup_steps=N_EVALUATIONS // 3)\n",
    "\n",
    "study = optuna.create_study(sampler=sampler, pruner=pruner, direction=\"maximize\")\n",
    "study.optimize(objective, n_trials=N_TRIALS, callbacks= [CheckHyperparamMeanRewardThreshold(500.0)], show_progress_bar= True)"
   ]
  },
  {
   "cell_type": "code",
   "execution_count": 20,
   "metadata": {},
   "outputs": [],
   "source": [
    "# Treino do modelo com hiperparâmetros selecionados\n",
    "from stable_baselines3.a2c import A2C\n",
    "from stable_baselines3.common.evaluation import evaluate_policy\n",
    "\n",
    "torch.manual_seed(1)\n",
    "#best_model_params = sample_dqn_params(study.best_trial)\n",
    "\n",
    "train_env = Monitor(gymnasium.make(ENV_ID))\n",
    "best_model = A2C('MlpPolicy', train_env)#, **best_model_params)\n",
    "\n",
    "seeds = [1] #, 2, 3, 5, 8, 13, 21, 34, 55, 89]\n",
    "for seed in seeds:\n",
    "    best_model.set_random_seed(seed)\n",
    "    best_model.learn(total_timesteps=int(3e6))\n",
    "\n",
    "eval_env = Monitor(gymnasium.make(ENV_ID))\n",
    "_, _ = evaluate_policy(best_model, eval_env, n_eval_episodes=int(1e3), return_episode_rewards = False)"
   ]
  },
  {
   "cell_type": "code",
   "execution_count": 21,
   "metadata": {},
   "outputs": [
    {
     "data": {
      "image/png": "[encoded data removed]",
      "text/plain": [
       "<Figure size 1200x500 with 2 Axes>"
      ]
     },
     "metadata": {},
     "output_type": "display_data"
    }
   ],
   "source": [
    "# Resultado do treino e validação\n",
    "import matplotlib.pyplot as plt\n",
    "import numpy as np\n",
    "\n",
    "train_rewards = np.array(train_env.get_episode_rewards()[:2500])\n",
    "eval_rewards = np.array(eval_env.get_episode_rewards())\n",
    "\n",
    "figs, axs = plt.subplots(1,2, figsize=(12, 5))\n",
    "axs[0].plot(train_rewards)\n",
    "axs[0].set_ylim(0, 550)\n",
    "axs[0].set_title('Treino')\n",
    "\n",
    "axs[1].plot(eval_rewards)\n",
    "axs[1].set_ylim(0, 550)\n",
    "axs[1].set_title('Validação')\n",
    "\n",
    "plt.show()"
   ]
  },
  {
   "cell_type": "code",
   "execution_count": 22,
   "metadata": {},
   "outputs": [],
   "source": [
    "# teste\n",
    "teste(best_model)"
   ]
  }
 ],
 "metadata": {
  "kernelspec": {
   "display_name": "Dissertacao",
   "language": "python",
   "name": "python3"
  },
  "language_info": {
   "codemirror_mode": {
    "name": "ipython",
    "version": 3
   },
   "file_extension": ".py",
   "mimetype": "text/x-python",
   "name": "python",
   "nbconvert_exporter": "python",
   "pygments_lexer": "ipython3",
   "version": "3.10.13"
  }
 },
 "nbformat": 4,
 "nbformat_minor": 2
}
