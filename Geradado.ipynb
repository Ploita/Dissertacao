{
 "cells": [
  {
   "cell_type": "markdown",
   "metadata": {},
   "source": [
    "# Comparativo pra múltiplas seeds"
   ]
  },
  {
   "cell_type": "code",
   "execution_count": 3,
   "metadata": {},
   "outputs": [],
   "source": [
    "#todo: indicar qual gradiente pertece a qual camada automaticamente -> net diferente de 2 camadas\n",
    "import matplotlib.pyplot as plt\n",
    "import moviepy.editor as mpy\n",
    "import pandas as pd\n",
    "import numpy as np\n",
    "import os\n",
    "\n",
    "def plot_mi(indice: int):\n",
    "    direc = f'teste/{indice}/'\n",
    "    data = pd.read_csv(direc + 'resultados.csv')\n",
    "    drop_list = ['n_updates', 'learning_rate', 'range']\n",
    "    for i in drop_list:\n",
    "        data.drop(data.filter(like = i), axis= 1, inplace= True) #type: ignore\n",
    "    loss_data = data.filter(like= 'loss')\n",
    "    grad_data = data.filter(like= 'layer')\n",
    "    mutual_data = data.filter(like = 'mutual')\n",
    "    data.drop(loss_data, axis = 1, inplace= True) #type: ignore\n",
    "    data.drop(grad_data, axis = 1, inplace= True) #type: ignore\n",
    "    data.drop(mutual_data, axis = 1, inplace= True) #type: ignore\n",
    "\n",
    "    lista = [['train/mutual_info_0','train/mutual_info_3', 'darkorange'], \n",
    "             ['train/mutual_info_1','train/mutual_info_4', 'b']]\n",
    "\n",
    "    min_y = mutual_data[[lista[0][1], lista[1][1]]].min().min()\n",
    "    max_y = mutual_data[[lista[0][1], lista[1][1]]].max().max()\n",
    "    margin_y = 0.1 * (max_y - min_y)\n",
    "\n",
    "    min_x = mutual_data[[lista[0][0], lista[1][0]]].min().min()\n",
    "    max_x = mutual_data[[lista[0][0], lista[1][0]]].max().max()\n",
    "    margin_x = 0.1 * (max_x - min_x)\n",
    "\n",
    "    for j in range(len(mutual_data['train/mutual_info_0'])):\n",
    "        for i in lista:\n",
    "            plt.scatter(x= mutual_data[i[0]][j],y= mutual_data[i[1]][j], c = i[2])\n",
    "        plt.xlabel('I(X, T)')\n",
    "        plt.ylabel('I(T, Y)')\n",
    "        plt.legend(['1st layer', '2nd layer'])\n",
    "        plt.ylim(min_y - margin_y, max_y + margin_y)\n",
    "        plt.xlim(min_x - margin_x, max_x + margin_x)\n",
    "        plt.title(f'Iteration {str(j).zfill(3)}')\n",
    "        plt.tight_layout()\n",
    "        plt.savefig(f'{direc}plots/plot_{str(j).zfill(3)}.jpg')\n",
    "        plt.clf()\n",
    "    \n",
    "    filenames = [direc + 'plots/' + i for i in os.listdir(direc + 'plots')]\n",
    "    clip = mpy.ImageSequenceClip(filenames, fps=15)\n",
    "    clip.write_videofile(direc + f\"IP_evo_{indice}.mp4\", logger = None)\n"
   ]
  },
  {
   "cell_type": "code",
   "execution_count": null,
   "metadata": {},
   "outputs": [],
   "source": [
    "from utils import Experimento, alerta\n",
    "import os \n",
    "\n",
    "params = {\n",
    "    'env_id': 'CartPole-v1',\n",
    "    'n_envs': 1,\n",
    "    'fib_seeds': [0],\n",
    "    'timesteps': int(1e5),\n",
    "    'recording': False,\n",
    "    'device': 'cpu',\n",
    "    'reference_agent': 'agente_treinado.zip',\n",
    "    'coleta': False\n",
    "}\n",
    "\n",
    "for i in range(50):\n",
    "    params['fib_seeds'] = [i]\n",
    "    teste = Experimento(params)\n",
    "    \n",
    "    teste.direc = f'teste/{i}/resultados.csv'\n",
    "    if not os.path.exists(f'teste/{i}'):\n",
    "        os.makedirs(f'teste/{i}')\n",
    "        os.makedirs(f'teste/{i}/plots')\n",
    "\n",
    "    teste.treinamento()\n",
    "    plot_mi(i)\n",
    "alerta()"
   ]
  },
  {
   "cell_type": "code",
   "execution_count": null,
   "metadata": {},
   "outputs": [
    {
     "data": {
      "text/plain": [
       "<Figure size 640x480 with 0 Axes>"
      ]
     },
     "metadata": {},
     "output_type": "display_data"
    }
   ],
   "source": [
    "# varre as pastas de teste e plota o gráfico de scatter de múltiplas runs\n",
    "import matplotlib.pyplot as plt\n",
    "import moviepy.editor as mpy\n",
    "import pandas as pd\n",
    "import numpy as np\n",
    "import os\n",
    "\n",
    "lista = [['train/mutual_info_0','train/mutual_info_10', 'darkorange'],\n",
    "         ['train/mutual_info_1','train/mutual_info_11', 'b']]\n",
    "data = []\n",
    "\n",
    "pastas = [i for i in os.listdir('teste')]\n",
    "for indice in pastas:\n",
    "    if indice.isdecimal():\n",
    "        direc = f'teste/{indice}/'\n",
    "        data.append(pd.read_csv(direc + 'resultados.csv'))\n",
    "\n",
    "for j in range(len(data[0])):\n",
    "    for k in range(len(data)):\n",
    "        for exemplo in lista:\n",
    "            plt.scatter(x= data[k][exemplo[0]][j],y= data[k][exemplo[1]][j], c = exemplo[2])\n",
    "\n",
    "    min_y = min([i[[lista[0][1], lista[1][1]]].min().min() for i in data])\n",
    "    max_y = max([i[[lista[0][1], lista[1][1]]].max().max() for i in data])\n",
    "    margin_y = 0.1 * (max_y - min_y)\n",
    "\n",
    "    min_x = min([i[[lista[0][0], lista[1][0]]].min().min() for i in data])\n",
    "    max_x = max([i[[lista[0][0], lista[1][0]]].max().max() for i in data])\n",
    "    margin_x = 0.1 * (max_x - min_x)\n",
    "\n",
    "    plt.xlabel('I(X, T)')\n",
    "    plt.ylabel('I(T, Y)')\n",
    "    plt.legend(['1st layer', '2nd layer'])\n",
    "    plt.ylim(min_y - margin_y, max_y + margin_y)\n",
    "    plt.xlim(min_x - margin_x, max_x + margin_x)\n",
    "    \n",
    "    plt.title(f'Iteration {str(j).zfill(3)}')\n",
    "    plt.tight_layout()\n",
    "    plt.savefig(f'teste/plots/plot_{str(j).zfill(3)}.jpg')\n",
    "    plt.show()\n",
    "    plt.clf()\n",
    "\n",
    "filenames = ['teste/plots/' + i for i in os.listdir('teste/plots')]\n",
    "clip = mpy.ImageSequenceClip(filenames, fps=15)\n",
    "clip.write_videofile('teste/' + f\"IP_evo_{indice}.mp4\", logger = None)"
   ]
  }
 ],
 "metadata": {
  "kernelspec": {
   "display_name": "dissertacao",
   "language": "python",
   "name": "python3"
  },
  "language_info": {
   "codemirror_mode": {
    "name": "ipython",
    "version": 3
   },
   "file_extension": ".py",
   "mimetype": "text/x-python",
   "name": "python",
   "nbconvert_exporter": "python",
   "pygments_lexer": "ipython3",
   "version": "3.10.14"
  }
 },
 "nbformat": 4,
 "nbformat_minor": 2
}
