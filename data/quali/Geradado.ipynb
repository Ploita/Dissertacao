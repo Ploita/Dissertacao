{
 "cells": [
  {
   "cell_type": "markdown",
   "metadata": {},
   "source": [
    "# Comparativo pra múltiplas seeds"
   ]
  },
  {
   "cell_type": "code",
   "execution_count": 1,
   "metadata": {},
   "outputs": [],
   "source": [
    "# varre as pastas de teste e plota o gráfico de scatter de múltiplas runs\n",
    "import matplotlib.pyplot as plt\n",
    "import moviepy.editor as mpy\n",
    "import pandas as pd\n",
    "import os\n",
    "\n",
    "def plot_mi(dir: str):\n",
    "    lista = [['train/mutual_info_9','train/mutual_info_2', 'darkorange'],\n",
    "            ['train/mutual_info_10','train/mutual_info_5', 'b'],\n",
    "            ['train/mutual_info_11','train/mutual_info_7', 'g']]\n",
    "    data = []\n",
    "    path_plot = os.path.join(dir, 'plots')\n",
    "    if not os.path.exists(path_plot):\n",
    "        os.makedirs(path_plot)\n",
    "\n",
    "    pastas = [i for i in os.listdir(f'{dir}')]\n",
    "    for indice in pastas:\n",
    "        if indice.isdecimal():\n",
    "            direc = f'{dir}/{indice}/'\n",
    "            data.append(pd.read_csv(direc + 'resultados.csv'))\n",
    "\n",
    "\n",
    "    for j in range(len(data[0])):\n",
    "        for k in range(len(data)):\n",
    "            for exemplo in lista:\n",
    "                plt.scatter(x= data[k][exemplo[0]][j],y= data[k][exemplo[1]][j], c = exemplo[2])\n",
    "\n",
    "        min_y = min([i[[lista[0][1], lista[1][1]]].min().min() for i in data])\n",
    "        max_y = max([i[[lista[0][1], lista[1][1]]].max().max() for i in data])\n",
    "        margin_y = 0.1 * (max_y - min_y)\n",
    "\n",
    "        min_x = min([i[[lista[0][0], lista[1][0]]].min().min() for i in data])\n",
    "        max_x = max([i[[lista[0][0], lista[1][0]]].max().max() for i in data])\n",
    "        margin_x = 0.1 * (max_x - min_x)\n",
    "\n",
    "        plt.xlabel('I(T, Y_ref)')\n",
    "        plt.ylabel('I(T, Y_real)')\n",
    "        plt.legend(['Input', '1st layer', '2nd layer'])\n",
    "        plt.ylim(min_y - margin_y, max_y + margin_y)\n",
    "        plt.xlim(min_x - margin_x, max_x + margin_x)\n",
    "        \n",
    "        plt.title(f'Iteration {str(j).zfill(3)}')\n",
    "        plt.tight_layout()\n",
    "        plt.savefig(f'{path_plot}/plot_{str(j).zfill(3)}.jpg')\n",
    "        plt.clf()\n",
    "\n",
    "    filenames = [f'{path_plot}/' + i for i in os.listdir(f'{path_plot}')]\n",
    "    clip = mpy.ImageSequenceClip(filenames, fps=15)\n",
    "    clip.write_videofile(f'{dir}/' + f\"IP_evo_{indice}.mp4\", logger = None)"
   ]
  },
  {
   "cell_type": "code",
   "execution_count": null,
   "metadata": {},
   "outputs": [],
   "source": [
    "from utils import Experimento, alerta\n",
    "\n",
    "params = {\n",
    "    'env_id': 'CartPole-v1',\n",
    "    'n_envs': 1,\n",
    "    'fib_seeds': [0],\n",
    "    'timesteps': int(1e5),\n",
    "    'recording': False,\n",
    "    'device': 'cpu',\n",
    "    'direc': 'experimento_2',\n",
    "    'calc_mi': False,\n",
    "    'reference_agent': 'agente_bom.zip',\n",
    "    'coleta': False\n",
    "}\n",
    "\n",
    "# todo: tem que salvar o agente a cada seed pra depois treinar com esse agente sendo a referÊncia\n",
    "for i in range(50):\n",
    "    params['fib_seeds'] = [i]\n",
    "    teste = Experimento(params)\n",
    "    teste.treinamento()\n",
    "alerta()"
   ]
  },
  {
   "cell_type": "code",
   "execution_count": 5,
   "metadata": {},
   "outputs": [],
   "source": [
    "import gymnasium\n",
    "from stable_baselines3.ppo import PPO\n",
    "\n",
    "def test(best_model: PPO):\n",
    "    env = gymnasium.make('CartPole-v1', render_mode = 'human')\n",
    "    obs = env.reset()[0]\n",
    "    i = 0\n",
    "    seeds = [1, 2, 3, 5, 8]\n",
    "    while i < 5:\n",
    "        best_model.set_random_seed(seeds[i])\n",
    "        action, _ = best_model.predict(obs, deterministic=True)\n",
    "        obs, reward, terminated, truncated, info = env.step(action)\n",
    "        if terminated or truncated:\n",
    "            obs, info = env.reset()\n",
    "            i = i + 1\n",
    "    env.close()"
   ]
  },
  {
   "cell_type": "code",
   "execution_count": 6,
   "metadata": {},
   "outputs": [],
   "source": [
    "test(teste.model.reference_agent)"
   ]
  },
  {
   "cell_type": "code",
   "execution_count": null,
   "metadata": {},
   "outputs": [
    {
     "data": {
      "text/plain": [
       "<stable_baselines3.ppo.ppo.PPO at 0x1f7899fa290>"
      ]
     },
     "execution_count": 9,
     "metadata": {},
     "output_type": "execute_result"
    }
   ],
   "source": [
    "env = gymnasium.make('CartPole-v1')\n",
    "model = PPO('MlpPolicy', env)\n",
    "model.learn(int(1e7))\n"
   ]
  },
  {
   "cell_type": "code",
   "execution_count": 22,
   "metadata": {},
   "outputs": [],
   "source": [
    "env = gymnasium.make('CartPole-v1')\n",
    "new_model = PPO('MlpPolicy', env)\n",
    "new_model = new_model.load('agente_bom.zip')\n",
    "test(new_model)"
   ]
  }
 ],
 "metadata": {
  "kernelspec": {
   "display_name": "dissertacao",
   "language": "python",
   "name": "python3"
  },
  "language_info": {
   "codemirror_mode": {
    "name": "ipython",
    "version": 3
   },
   "file_extension": ".py",
   "mimetype": "text/x-python",
   "name": "python",
   "nbconvert_exporter": "python",
   "pygments_lexer": "ipython3",
   "version": "3.10.14"
  }
 },
 "nbformat": 4,
 "nbformat_minor": 2
}
