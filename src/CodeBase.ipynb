{
 "cells": [
  {
   "cell_type": "markdown",
   "metadata": {},
   "source": [
    "# Geração do modelo treinado"
   ]
  },
  {
   "cell_type": "code",
   "execution_count": 1,
   "metadata": {},
   "outputs": [
    {
     "name": "stderr",
     "output_type": "stream",
     "text": [
      "Training with different seeds: 100%|██████████| 1/1 [00:02<00:00,  2.32s/it]\n"
     ]
    }
   ],
   "source": [
    "from class_experiment import Experimento\n",
    "\n",
    "num_neurons = 32\n",
    "params = {\n",
    "    'env_id': 'CartPole-v1',\n",
    "    'policy_kwargs': dict(net_arch=[num_neurons, num_neurons]),\n",
    "    'seeds': [0],\n",
    "    'timesteps': int(1e3),\n",
    "}\n",
    "\n",
    "teste = Experimento(params)\n",
    "teste.treinamento()"
   ]
  },
  {
   "cell_type": "code",
   "execution_count": 1,
   "metadata": {},
   "outputs": [
    {
     "name": "stderr",
     "output_type": "stream",
     "text": [
      "Training with different seeds: 100%|██████████| 1/1 [00:02<00:00,  2.34s/it]\n",
      "Training with different seeds: 100%|██████████| 1/1 [00:03<00:00,  3.18s/it]\n",
      "Training with different seeds: 100%|██████████| 1/1 [00:02<00:00,  2.33s/it]\n",
      "Training with different seeds: 100%|██████████| 1/1 [00:02<00:00,  2.34s/it]\n",
      "Training with different seeds: 100%|██████████| 1/1 [00:02<00:00,  2.38s/it]\n",
      "Training with different seeds: 100%|██████████| 1/1 [00:02<00:00,  2.35s/it]\n",
      "Training with different seeds: 100%|██████████| 1/1 [00:02<00:00,  2.31s/it]\n",
      "Training with different seeds: 100%|██████████| 1/1 [00:02<00:00,  2.33s/it]\n",
      "Training with different seeds: 100%|██████████| 1/1 [00:02<00:00,  2.63s/it]\n",
      "Training with different seeds: 100%|██████████| 1/1 [00:03<00:00,  3.54s/it]\n"
     ]
    }
   ],
   "source": [
    "from class_experiment import Experimento\n",
    "from GeraPlots import main_pipeline\n",
    "\n",
    "num_neurons = 32\n",
    "env_id = 'CartPole-v1'\n",
    "params = {\n",
    "    'policy_kwargs': dict(net_arch=[num_neurons, num_neurons]),\n",
    "    'timesteps': int(1e3),\n",
    "    'directory': f'../data/groups/{env_id}_{num_neurons}'\n",
    "}\n",
    "for seed in range(10):\n",
    "    params['seeds'] = [seed]\n",
    "    Ensaio = Experimento(params)\n",
    "    Ensaio.treinamento()\n",
    "main_pipeline(params['directory'])"
   ]
  }
 ],
 "metadata": {
  "kernelspec": {
   "display_name": "Dissertacao",
   "language": "python",
   "name": "python3"
  },
  "language_info": {
   "codemirror_mode": {
    "name": "ipython",
    "version": 3
   },
   "file_extension": ".py",
   "mimetype": "text/x-python",
   "name": "python",
   "nbconvert_exporter": "python",
   "pygments_lexer": "ipython3",
   "version": "3.10.12"
  }
 },
 "nbformat": 4,
 "nbformat_minor": 2
}
