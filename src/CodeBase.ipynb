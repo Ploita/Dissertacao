{
 "cells": [
  {
   "cell_type": "markdown",
   "metadata": {},
   "source": [
    "# Geração do modelo treinado"
   ]
  },
  {
   "cell_type": "code",
   "execution_count": 1,
   "metadata": {},
   "outputs": [
    {
     "name": "stderr",
     "output_type": "stream",
     "text": [
      "Training with different seeds:   0%|          | 0/1 [00:00<?, ?it/s]"
     ]
    },
    {
     "data": {
      "application/vnd.jupyter.widget-view+json": {
       "model_id": "54643439d3ec4ebea64fafb1eed6b431",
       "version_major": 2,
       "version_minor": 0
      },
      "text/plain": [
       "Output()"
      ]
     },
     "metadata": {},
     "output_type": "display_data"
    },
    {
     "data": {
      "text/html": [
       "<pre style=\"white-space:pre;overflow-x:auto;line-height:normal;font-family:Menlo,'DejaVu Sans Mono',consolas,'Courier New',monospace\"></pre>\n"
      ],
      "text/plain": []
     },
     "metadata": {},
     "output_type": "display_data"
    },
    {
     "name": "stderr",
     "output_type": "stream",
     "text": [
      "Training with different seeds: 100%|██████████| 1/1 [00:01<00:00,  1.61s/it]\n",
      "/home/ploita/Documents/Github/Dissertacao/src/class_experiment.py:229: UserWarning: Tight layout not applied. The bottom and top margins cannot be made large enough to accommodate all Axes decorations.\n",
      "  plt.savefig(f'{self.directory}/plots/colorbar.pdf')\n",
      "/home/ploita/Documents/Github/Dissertacao/src/class_experiment.py:229: UserWarning: Tight layout not applied. The bottom and top margins cannot be made large enough to accommodate all Axes decorations.\n",
      "  plt.savefig(f'{self.directory}/plots/colorbar.pdf')\n"
     ]
    }
   ],
   "source": [
    "from class_experiment import Experimento\n",
    "\n",
    "num_neurons = 4\n",
    "params = {\n",
    "    'env_id': 'CartPole-v1',\n",
    "    'n_envs': 2,\n",
    "    'policy_kwargs': dict(net_arch=[num_neurons, num_neurons]),\n",
    "    'seeds': [0],\n",
    "    'timesteps': int(1e3),\n",
    "}\n",
    "\n",
    "teste = Experimento(params) \n",
    "teste.treinamento()"
   ]
  }
 ],
 "metadata": {
  "kernelspec": {
   "display_name": "Dissertacao (3.10.12)",
   "language": "python",
   "name": "python3"
  },
  "language_info": {
   "codemirror_mode": {
    "name": "ipython",
    "version": 3
   },
   "file_extension": ".py",
   "mimetype": "text/x-python",
   "name": "python",
   "nbconvert_exporter": "python",
   "pygments_lexer": "ipython3",
   "version": "3.10.12"
  }
 },
 "nbformat": 4,
 "nbformat_minor": 2
}
